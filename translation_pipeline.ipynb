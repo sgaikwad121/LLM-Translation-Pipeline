{
 "cells": [
  {
   "cell_type": "markdown",
   "id": "d773d9ca-8275-4c2e-b354-4e9e2b3381af",
   "metadata": {},
   "source": [
    "# Translation Pipeline Demo\n",
    "## Step 1: Load Environment\n",
    "## Step 2: Test Translation\n"
   ]
  },
  {
   "cell_type": "code",
   "execution_count": 1,
   "id": "dd2fa6ac-0b05-44ad-a3e4-d3a7542e6e42",
   "metadata": {},
   "outputs": [
    {
     "name": "stdout",
     "output_type": "stream",
     "text": [
      "Loaded key starts with: sk-proj-LX\n",
      "Key length: 164\n"
     ]
    }
   ],
   "source": [
    "from dotenv import load_dotenv\n",
    "import os\n",
    "\n",
    "load_dotenv(r\"E:\\LLM_Translation_Pipeline\\.env\", override=True)\n",
    "\n",
    "api_key = os.getenv(\"OPENAI_API_KEY\")\n",
    "\n",
    "print(\"Loaded key starts with:\", api_key[:10])\n",
    "print(\"Key length:\", len(api_key))\n"
   ]
  },
  {
   "cell_type": "code",
   "execution_count": 2,
   "id": "2b5a5917-14c7-4926-9871-cc3d7e07764a",
   "metadata": {},
   "outputs": [
    {
     "name": "stdout",
     "output_type": "stream",
     "text": [
      "SyncPage[Model](data=[Model(id='gpt-3.5-turbo', created=1677610602, object='model', owned_by='openai'), Model(id='sora-2-pro', created=1759708663, object='model', owned_by='system'), Model(id='gpt-5-pro', created=1759469822, object='model', owned_by='system'), Model(id='gpt-audio-mini', created=1759512027, object='model', owned_by='system'), Model(id='gpt-audio-mini-2025-10-06', created=1759512137, object='model', owned_by='system'), Model(id='sora-2', created=1759708615, object='model', owned_by='system'), Model(id='davinci-002', created=1692634301, object='model', owned_by='system'), Model(id='babbage-002', created=1692634615, object='model', owned_by='system'), Model(id='gpt-3.5-turbo-instruct', created=1692901427, object='model', owned_by='system'), Model(id='gpt-3.5-turbo-instruct-0914', created=1694122472, object='model', owned_by='system'), Model(id='dall-e-3', created=1698785189, object='model', owned_by='system'), Model(id='dall-e-2', created=1698798177, object='model', owned_by='system'), Model(id='gpt-3.5-turbo-1106', created=1698959748, object='model', owned_by='system'), Model(id='tts-1-hd', created=1699046015, object='model', owned_by='system'), Model(id='tts-1-1106', created=1699053241, object='model', owned_by='system'), Model(id='tts-1-hd-1106', created=1699053533, object='model', owned_by='system'), Model(id='text-embedding-3-small', created=1705948997, object='model', owned_by='system'), Model(id='text-embedding-3-large', created=1705953180, object='model', owned_by='system'), Model(id='gpt-3.5-turbo-0125', created=1706048358, object='model', owned_by='system'), Model(id='gpt-4o', created=1715367049, object='model', owned_by='system'), Model(id='gpt-4o-2024-05-13', created=1715368132, object='model', owned_by='system'), Model(id='gpt-4o-mini-2024-07-18', created=1721172717, object='model', owned_by='system'), Model(id='gpt-4o-mini', created=1721172741, object='model', owned_by='system'), Model(id='gpt-4o-2024-08-06', created=1722814719, object='model', owned_by='system'), Model(id='o1-mini-2024-09-12', created=1725648979, object='model', owned_by='system'), Model(id='o1-mini', created=1725649008, object='model', owned_by='system'), Model(id='gpt-4o-audio-preview-2024-10-01', created=1727389042, object='model', owned_by='system'), Model(id='gpt-4o-audio-preview', created=1727460443, object='model', owned_by='system'), Model(id='omni-moderation-latest', created=1731689265, object='model', owned_by='system'), Model(id='omni-moderation-2024-09-26', created=1732734466, object='model', owned_by='system'), Model(id='gpt-4o-audio-preview-2024-12-17', created=1734034239, object='model', owned_by='system'), Model(id='gpt-4o-mini-audio-preview-2024-12-17', created=1734115920, object='model', owned_by='system'), Model(id='o1-2024-12-17', created=1734326976, object='model', owned_by='system'), Model(id='o1', created=1734375816, object='model', owned_by='system'), Model(id='gpt-4o-mini-audio-preview', created=1734387424, object='model', owned_by='system'), Model(id='o3-mini', created=1737146383, object='model', owned_by='system'), Model(id='o3-mini-2025-01-31', created=1738010200, object='model', owned_by='system'), Model(id='gpt-4o-2024-11-20', created=1739331543, object='model', owned_by='system'), Model(id='gpt-4o-search-preview-2025-03-11', created=1741388170, object='model', owned_by='system'), Model(id='gpt-4o-search-preview', created=1741388720, object='model', owned_by='system'), Model(id='gpt-4o-mini-search-preview-2025-03-11', created=1741390858, object='model', owned_by='system'), Model(id='gpt-4o-mini-search-preview', created=1741391161, object='model', owned_by='system'), Model(id='gpt-4o-transcribe', created=1742068463, object='model', owned_by='system'), Model(id='gpt-4o-mini-transcribe', created=1742068596, object='model', owned_by='system'), Model(id='gpt-4o-mini-tts', created=1742403959, object='model', owned_by='system'), Model(id='o3-2025-04-16', created=1744133301, object='model', owned_by='system'), Model(id='o4-mini-2025-04-16', created=1744133506, object='model', owned_by='system'), Model(id='o3', created=1744225308, object='model', owned_by='system'), Model(id='o4-mini', created=1744225351, object='model', owned_by='system'), Model(id='gpt-4.1-2025-04-14', created=1744315746, object='model', owned_by='system'), Model(id='gpt-4.1', created=1744316542, object='model', owned_by='system'), Model(id='gpt-4.1-mini-2025-04-14', created=1744317547, object='model', owned_by='system'), Model(id='gpt-4.1-mini', created=1744318173, object='model', owned_by='system'), Model(id='gpt-4.1-nano-2025-04-14', created=1744321025, object='model', owned_by='system'), Model(id='gpt-4.1-nano', created=1744321707, object='model', owned_by='system'), Model(id='gpt-image-1', created=1745517030, object='model', owned_by='system'), Model(id='gpt-4o-audio-preview-2025-06-03', created=1748908498, object='model', owned_by='system'), Model(id='gpt-5-chat-latest', created=1754073306, object='model', owned_by='system'), Model(id='gpt-5-2025-08-07', created=1754075360, object='model', owned_by='system'), Model(id='gpt-5', created=1754425777, object='model', owned_by='system'), Model(id='gpt-5-mini-2025-08-07', created=1754425867, object='model', owned_by='system'), Model(id='gpt-5-mini', created=1754425928, object='model', owned_by='system'), Model(id='gpt-5-nano-2025-08-07', created=1754426303, object='model', owned_by='system'), Model(id='gpt-5-nano', created=1754426384, object='model', owned_by='system'), Model(id='gpt-audio-2025-08-28', created=1756256146, object='model', owned_by='system'), Model(id='gpt-audio', created=1756339249, object='model', owned_by='system'), Model(id='gpt-5-codex', created=1757527818, object='model', owned_by='system'), Model(id='gpt-image-1-mini', created=1758845821, object='model', owned_by='system'), Model(id='gpt-5-pro-2025-10-06', created=1759469707, object='model', owned_by='system'), Model(id='whisper-1', created=1677532384, object='model', owned_by='openai-internal'), Model(id='tts-1', created=1681940951, object='model', owned_by='openai-internal'), Model(id='gpt-3.5-turbo-16k', created=1683758102, object='model', owned_by='openai-internal'), Model(id='text-embedding-ada-002', created=1671217299, object='model', owned_by='openai-internal')], object='list')\n"
     ]
    }
   ],
   "source": [
    "from openai import OpenAI\n",
    "client = OpenAI(api_key=api_key)\n",
    "\n",
    "print(client.models.list())  # should return available models without error\n"
   ]
  },
  {
   "cell_type": "code",
   "execution_count": 3,
   "id": "8be8b5ce-2f62-4b6a-bab5-096fd220c6da",
   "metadata": {},
   "outputs": [
    {
     "name": "stdout",
     "output_type": "stream",
     "text": [
      "✅ API connection successful. Total models available: 73\n",
      "First few models: ['gpt-3.5-turbo', 'sora-2-pro', 'gpt-5-pro', 'gpt-audio-mini', 'gpt-audio-mini-2025-10-06']\n"
     ]
    }
   ],
   "source": [
    "from openai import OpenAI\n",
    "\n",
    "client = OpenAI(api_key=api_key)\n",
    "\n",
    "# Simple test: list available models\n",
    "models = client.models.list()\n",
    "print(\"✅ API connection successful. Total models available:\", len(models.data))\n",
    "print(\"First few models:\", [m.id for m in models.data[:5]])\n"
   ]
  },
  {
   "cell_type": "code",
   "execution_count": 4,
   "id": "0e77de7d-ca06-4116-960d-a1ae5909d86a",
   "metadata": {},
   "outputs": [
    {
     "name": "stdout",
     "output_type": "stream",
     "text": [
      "✅ Environment ready. Key loaded: sk-proj-LX ...\n"
     ]
    }
   ],
   "source": [
    "from openai import OpenAI\n",
    "from dotenv import load_dotenv\n",
    "import os\n",
    "import pandas as pd\n",
    "\n",
    "# Load environment variables\n",
    "load_dotenv()\n",
    "api_key = os.getenv(\"OPENAI_API_KEY\")\n",
    "\n",
    "client = OpenAI(api_key=api_key)\n",
    "\n",
    "print(\"✅ Environment ready. Key loaded:\", api_key[:10], \"...\")\n"
   ]
  },
  {
   "cell_type": "code",
   "execution_count": 5,
   "id": "f0ce15c1-6e95-467a-9226-94331f3dc9e2",
   "metadata": {},
   "outputs": [],
   "source": [
    "def translate_text(text, target_lang):\n",
    "    \"\"\"Basic translation using OpenAI chat model.\"\"\"\n",
    "    prompt = f\"Translate the following text into {target_lang}:\\n\\n{text}\"\n",
    "\n",
    "    response = client.chat.completions.create(\n",
    "        model=\"gpt-4o-mini\",\n",
    "        messages=[{\"role\": \"user\", \"content\": prompt}],\n",
    "    )\n",
    "\n",
    "    return response.choices[0].message.content.strip()\n"
   ]
  },
  {
   "cell_type": "code",
   "execution_count": 6,
   "id": "e19272a6-ae1a-4648-a2a7-d2976124c663",
   "metadata": {},
   "outputs": [
    {
     "name": "stdout",
     "output_type": "stream",
     "text": [
      "Original: My name is Shivaji, Working as a CPM in Thebigword, inshort form it is called as TBW\n",
      "French: Mon nom est Shivaji, je travaille en tant que CPM chez Thebigword, que l'on appelle en abrégé TBW.\n"
     ]
    }
   ],
   "source": [
    "test_text = \"My name is Shivaji, Working as a CPM in Thebigword, inshort form it is called as TBW\"\n",
    "translated = translate_text(test_text, \"French\")\n",
    "print(\"Original:\", test_text)\n",
    "print(\"French:\", translated)"
   ]
  },
  {
   "cell_type": "code",
   "execution_count": 7,
   "id": "57e317ca-ce9b-4b95-aad9-fcfd042e3fcd",
   "metadata": {},
   "outputs": [
    {
     "name": "stdout",
     "output_type": "stream",
     "text": [
      "✅ API key loaded successfully (hidden for security).\n",
      "✅ Loaded glossary with 42 entries.\n",
      "\n",
      "--- Without Glossary ---\n",
      "Mon nom est Shivaji, je travaille comme CPM chez Thebigword, que l'on appelle en abrégé TBW.\n",
      "\n",
      "--- With Glossary ---\n",
      "Mon nom est Shivaji, je travaille en tant que CPM chez THEBIGWORD, que l'on abrège en TBW.\n"
     ]
    }
   ],
   "source": [
    "# ============================================================\n",
    "# 🌐 TRANSLATION PIPELINE WITH GLOSSARY SUPPORT\n",
    "# ============================================================\n",
    "# Author: Shivaji Gaikwad\n",
    "# Description:\n",
    "#   This notebook demonstrates how to perform translations using\n",
    "#   the OpenAI API with an optional glossary for term consistency.\n",
    "#\n",
    "# Features:\n",
    "#   ✅ Loads API key from .env file\n",
    "#   ✅ Translates text to a target language\n",
    "#   ✅ Retrieves glossary terms and enforces translation consistency\n",
    "#   ✅ Demonstrates both normal and glossary-assisted translations\n",
    "# ============================================================\n",
    "\n",
    "from openai import OpenAI\n",
    "from dotenv import load_dotenv\n",
    "import os\n",
    "import pandas as pd\n",
    "\n",
    "# ------------------------------\n",
    "# STEP 1: Load environment and API key\n",
    "# ------------------------------\n",
    "load_dotenv()\n",
    "api_key = os.getenv(\"OPENAI_API_KEY\")\n",
    "\n",
    "if not api_key:\n",
    "    raise ValueError(\"❌ API key not found in .env file.\")\n",
    "else:\n",
    "    print(\"✅ API key loaded successfully (hidden for security).\")\n",
    "\n",
    "client = OpenAI(api_key=api_key)\n",
    "\n",
    "# ------------------------------\n",
    "# STEP 2: Define helper functions\n",
    "# ------------------------------\n",
    "\n",
    "def translate_text(text: str, target_lang: str) -> str:\n",
    "    \"\"\"\n",
    "    Translates plain text into the specified target language.\n",
    "    \"\"\"\n",
    "    prompt = f\"Translate the following text into {target_lang}:\\n\\n{text}\"\n",
    "    response = client.chat.completions.create(\n",
    "        model=\"gpt-4o-mini\",\n",
    "        messages=[{\"role\": \"user\", \"content\": prompt}]\n",
    "    )\n",
    "    return response.choices[0].message.content.strip()\n",
    "\n",
    "def retrieve_glossary(source_text: str, glossary_df: pd.DataFrame, k: int = 5):\n",
    "    \"\"\"\n",
    "    Retrieves relevant glossary entries based on term matches in the text.\n",
    "    Returns a list of term pairs.\n",
    "    \"\"\"\n",
    "    matches = []\n",
    "    for _, row in glossary_df.iterrows():\n",
    "        if row['source_term'].lower() in source_text.lower():\n",
    "            matches.append(row)\n",
    "    return matches[:k]\n",
    "\n",
    "def translate_with_glossary(text: str, target_lang: str, glossary_df: pd.DataFrame):\n",
    "    \"\"\"\n",
    "    Translates text while enforcing glossary consistency.\n",
    "    \"\"\"\n",
    "    glossary_terms = retrieve_glossary(text, glossary_df)\n",
    "    glossary_prompt = \"\\n\".join(\n",
    "        [f\"{row['source_term']} → {row['target_term']}\" for _, row in pd.DataFrame(glossary_terms).iterrows()]\n",
    "    )\n",
    "    if not glossary_prompt:\n",
    "        glossary_prompt = \"(no glossary matches found)\"\n",
    "        \n",
    "    prompt = f\"\"\"\n",
    "You are a professional translator. Translate the following text into {target_lang}.\n",
    "Ensure these glossary terms are used consistently:\n",
    "{glossary_prompt}\n",
    "\n",
    "Text:\n",
    "{text}\n",
    "\"\"\"\n",
    "    response = client.chat.completions.create(\n",
    "        model=\"gpt-4o-mini\",\n",
    "        messages=[{\"role\": \"user\", \"content\": prompt}]\n",
    "    )\n",
    "    return response.choices[0].message.content.strip()\n",
    "\n",
    "# ------------------------------\n",
    "# STEP 3: Load glossary and test translation\n",
    "# ------------------------------\n",
    "glossary_df = pd.read_csv(\"glossary.csv\")\n",
    "print(f\"✅ Loaded glossary with {len(glossary_df)} entries.\")\n",
    "\n",
    "source_text = \"My name is Shivaji, Working as a CPM in Thebigword, in short form it is called as TBW.\"\n",
    "target_lang = \"French\"\n",
    "\n",
    "print(\"\\n--- Without Glossary ---\")\n",
    "plain_translation = translate_text(source_text, target_lang)\n",
    "print(plain_translation)\n",
    "\n",
    "print(\"\\n--- With Glossary ---\")\n",
    "gloss_translation = translate_with_glossary(source_text, target_lang, glossary_df)\n",
    "print(gloss_translation)"
   ]
  },
  {
   "cell_type": "code",
   "execution_count": 8,
   "id": "be19a8c8-3280-4263-b08b-d17e8fac7469",
   "metadata": {},
   "outputs": [
    {
     "name": "stdout",
     "output_type": "stream",
     "text": [
      "✅ Results saved to translation_results.csv\n"
     ]
    }
   ],
   "source": [
    "import csv\n",
    "\n",
    "results = [\n",
    "    {\"Mode\": \"Without Glossary\", \"Translation\": plain_translation},\n",
    "    {\"Mode\": \"With Glossary\", \"Translation\": gloss_translation},\n",
    "]\n",
    "\n",
    "with open(\"translation_results.csv\", \"w\", newline='', encoding=\"utf-8\") as f:\n",
    "    writer = csv.DictWriter(f, fieldnames=[\"Mode\", \"Translation\"])\n",
    "    writer.writeheader()\n",
    "    writer.writerows(results)\n",
    "\n",
    "print(\"✅ Results saved to translation_results.csv\")\n"
   ]
  },
  {
   "cell_type": "code",
   "execution_count": 9,
   "id": "c264623b-6b9d-4ff4-b537-5b17fe3ce9ba",
   "metadata": {},
   "outputs": [
    {
     "name": "stdout",
     "output_type": "stream",
     "text": [
      "\n",
      "🌍 Translating into French\n",
      "Mon nom est Shivaji, je travaille en tant que CPM chez THEBIGWORD, en abrégé on l'appelle TBW.\n",
      "\n",
      "🌍 Translating into Spanish\n",
      "Mi nombre es Shivaji, trabajo como CPM en THEBIGWORD, en su forma abreviada se le llama TBW.\n",
      "\n",
      "🌍 Translating into German\n",
      "Mein Name ist Shivaji. Ich arbeite als CPM bei THEBIGWORD, kurz gesagt TBW.\n"
     ]
    }
   ],
   "source": [
    "for lang in [\"French\", \"Spanish\", \"German\"]:\n",
    "    print(f\"\\n🌍 Translating into {lang}\")\n",
    "    print(translate_with_glossary(source_text, lang, glossary_df))\n"
   ]
  },
  {
   "cell_type": "code",
   "execution_count": 10,
   "id": "46c565bf-8d1d-4b71-8235-34729c4324ea",
   "metadata": {},
   "outputs": [
    {
     "name": "stdout",
     "output_type": "stream",
     "text": [
      "✅ Translation Comparison Table:\n"
     ]
    },
    {
     "data": {
      "text/html": [
       "<div>\n",
       "<style scoped>\n",
       "    .dataframe tbody tr th:only-of-type {\n",
       "        vertical-align: middle;\n",
       "    }\n",
       "\n",
       "    .dataframe tbody tr th {\n",
       "        vertical-align: top;\n",
       "    }\n",
       "\n",
       "    .dataframe thead th {\n",
       "        text-align: right;\n",
       "    }\n",
       "</style>\n",
       "<table border=\"1\" class=\"dataframe\">\n",
       "  <thead>\n",
       "    <tr style=\"text-align: right;\">\n",
       "      <th></th>\n",
       "      <th>Scenario</th>\n",
       "      <th>Translation</th>\n",
       "    </tr>\n",
       "  </thead>\n",
       "  <tbody>\n",
       "    <tr>\n",
       "      <th>0</th>\n",
       "      <td>Without Glossary</td>\n",
       "      <td>Mon nom est Shivaji, je travaille comme CPM ch...</td>\n",
       "    </tr>\n",
       "    <tr>\n",
       "      <th>1</th>\n",
       "      <td>With Glossary</td>\n",
       "      <td>Mon nom est Shivaji, je travaille en tant que ...</td>\n",
       "    </tr>\n",
       "  </tbody>\n",
       "</table>\n",
       "</div>"
      ],
      "text/plain": [
       "           Scenario                                        Translation\n",
       "0  Without Glossary  Mon nom est Shivaji, je travaille comme CPM ch...\n",
       "1     With Glossary  Mon nom est Shivaji, je travaille en tant que ..."
      ]
     },
     "execution_count": 10,
     "metadata": {},
     "output_type": "execute_result"
    }
   ],
   "source": [
    "# ====================================================\n",
    "# 🧾 TRANSLATION COMPARISON TABLE\n",
    "# ====================================================\n",
    "import pandas as pd\n",
    "\n",
    "# Create a summary list\n",
    "summary_data = [\n",
    "    {\n",
    "        \"Scenario\": \"Without Glossary\",\n",
    "        \"Translation\": plain_translation\n",
    "    },\n",
    "    {\n",
    "        \"Scenario\": \"With Glossary\",\n",
    "        \"Translation\": gloss_translation\n",
    "    }\n",
    "]\n",
    "\n",
    "# Convert to DataFrame for better display\n",
    "df_summary = pd.DataFrame(summary_data)\n",
    "\n",
    "# Display table\n",
    "print(\"✅ Translation Comparison Table:\")\n",
    "df_summary\n"
   ]
  },
  {
   "cell_type": "code",
   "execution_count": 11,
   "id": "4545e16e-ef77-4e71-ab99-1587487ac27e",
   "metadata": {},
   "outputs": [
    {
     "name": "stdout",
     "output_type": "stream",
     "text": [
      "💾 Saved summary as translation_comparison_summary.csv\n"
     ]
    }
   ],
   "source": [
    "df_summary.to_csv(\"translation_comparison_summary.csv\", index=False, encoding=\"utf-8\")\n",
    "print(\"💾 Saved summary as translation_comparison_summary.csv\")\n"
   ]
  },
  {
   "cell_type": "code",
   "execution_count": 12,
   "id": "a6575365-0241-4cbd-8504-0bc934435c0c",
   "metadata": {
    "scrolled": true
   },
   "outputs": [
    {
     "name": "stdout",
     "output_type": "stream",
     "text": [
      "✅ Translation Comparison with Differences:\n"
     ]
    },
    {
     "data": {
      "text/html": [
       "<div>\n",
       "<style scoped>\n",
       "    .dataframe tbody tr th:only-of-type {\n",
       "        vertical-align: middle;\n",
       "    }\n",
       "\n",
       "    .dataframe tbody tr th {\n",
       "        vertical-align: top;\n",
       "    }\n",
       "\n",
       "    .dataframe thead th {\n",
       "        text-align: right;\n",
       "    }\n",
       "</style>\n",
       "<table border=\"1\" class=\"dataframe\">\n",
       "  <thead>\n",
       "    <tr style=\"text-align: right;\">\n",
       "      <th></th>\n",
       "      <th>Scenario</th>\n",
       "      <th>Translation</th>\n",
       "    </tr>\n",
       "  </thead>\n",
       "  <tbody>\n",
       "    <tr>\n",
       "      <th>0</th>\n",
       "      <td>Without Glossary</td>\n",
       "      <td>Mon nom est Shivaji, je travaille comme CPM ch...</td>\n",
       "    </tr>\n",
       "    <tr>\n",
       "      <th>1</th>\n",
       "      <td>With Glossary</td>\n",
       "      <td>Mon nom est Shivaji, je travaille en tant que ...</td>\n",
       "    </tr>\n",
       "    <tr>\n",
       "      <th>2</th>\n",
       "      <td>🧩 Highlighted Difference</td>\n",
       "      <td>- comme | + en | + tant | + que | - Thebigword...</td>\n",
       "    </tr>\n",
       "  </tbody>\n",
       "</table>\n",
       "</div>"
      ],
      "text/plain": [
       "                   Scenario                                        Translation\n",
       "0          Without Glossary  Mon nom est Shivaji, je travaille comme CPM ch...\n",
       "1             With Glossary  Mon nom est Shivaji, je travaille en tant que ...\n",
       "2  🧩 Highlighted Difference  - comme | + en | + tant | + que | - Thebigword..."
      ]
     },
     "execution_count": 12,
     "metadata": {},
     "output_type": "execute_result"
    }
   ],
   "source": [
    "# ====================================================\n",
    "# 🧾 TRANSLATION COMPARISON WITH DIFFERENCE HIGHLIGHTS\n",
    "# ====================================================\n",
    "import pandas as pd\n",
    "from difflib import ndiff\n",
    "\n",
    "def highlight_differences(base, updated):\n",
    "    \"\"\"Highlight the words changed between baseline and glossary-enhanced translation.\"\"\"\n",
    "    diff = ndiff(base.split(), updated.split())\n",
    "    changes = [word for word in diff if word.startswith('+ ') or word.startswith('- ')]\n",
    "    return \" | \".join(changes) if changes else \"No difference\"\n",
    "\n",
    "# Create summary table with differences\n",
    "summary_data = [\n",
    "    {\n",
    "        \"Scenario\": \"Without Glossary\",\n",
    "        \"Translation\": plain_translation\n",
    "    },\n",
    "    {\n",
    "        \"Scenario\": \"With Glossary\",\n",
    "        \"Translation\": gloss_translation\n",
    "    },\n",
    "    {\n",
    "        \"Scenario\": \"🧩 Highlighted Difference\",\n",
    "        \"Translation\": highlight_differences(plain_translation, gloss_translation)\n",
    "    }\n",
    "]\n",
    "\n",
    "df_summary = pd.DataFrame(summary_data)\n",
    "\n",
    "print(\"✅ Translation Comparison with Differences:\")\n",
    "df_summary\n"
   ]
  },
  {
   "cell_type": "code",
   "execution_count": 13,
   "id": "5ff0fa74-b5dc-4819-94ab-3db2b91b04bd",
   "metadata": {},
   "outputs": [
    {
     "name": "stdout",
     "output_type": "stream",
     "text": [
      "✅ Results saved to translation_results.csv\n"
     ]
    }
   ],
   "source": [
    "import csv\n",
    "\n",
    "results = [\n",
    "    {\"Mode\": \"Without Glossary\", \"Translation\": plain_translation},\n",
    "    {\"Mode\": \"With Glossary\", \"Translation\": gloss_translation},\n",
    "]\n",
    "\n",
    "with open(\"translation_results.csv\", \"w\", newline='', encoding=\"utf-8\") as f:\n",
    "    writer = csv.DictWriter(f, fieldnames=[\"Mode\", \"Translation\"])\n",
    "    writer.writeheader()\n",
    "    writer.writerows(results)\n",
    "\n",
    "print(\"✅ Results saved to translation_results.csv\")\n"
   ]
  },
  {
   "cell_type": "code",
   "execution_count": null,
   "id": "94e79bb9-7d4c-44eb-bd96-eb475ec60042",
   "metadata": {},
   "outputs": [],
   "source": []
  }
 ],
 "metadata": {
  "kernelspec": {
   "display_name": "Python 3 (ipykernel)",
   "language": "python",
   "name": "python3"
  },
  "language_info": {
   "codemirror_mode": {
    "name": "ipython",
    "version": 3
   },
   "file_extension": ".py",
   "mimetype": "text/x-python",
   "name": "python",
   "nbconvert_exporter": "python",
   "pygments_lexer": "ipython3",
   "version": "3.13.7"
  }
 },
 "nbformat": 4,
 "nbformat_minor": 5
}
